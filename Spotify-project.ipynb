{
 "cells": [
  {
   "cell_type": "code",
   "execution_count": 3,
   "id": "c23554ef",
   "metadata": {},
   "outputs": [],
   "source": [
    "tokens_path = \"D:\\Various-APITokens-Details\\spotify.txt\""
   ]
  },
  {
   "cell_type": "code",
   "execution_count": 5,
   "id": "ae722314",
   "metadata": {},
   "outputs": [
    {
     "data": {
      "text/plain": [
       "['ClientID',\n",
       " '-',\n",
       " '45376cf3a63c421ba5e13941db6a213b',\n",
       " 'ClientSecret',\n",
       " '-',\n",
       " 'ebdf5b1bebd8405d8a88cf732484b995']"
      ]
     },
     "execution_count": 5,
     "metadata": {},
     "output_type": "execute_result"
    }
   ],
   "source": [
    "access_token = open(tokens_path,\"r\").read().split()\n",
    "access_token"
   ]
  },
  {
   "cell_type": "code",
   "execution_count": 6,
   "id": "ef3c3af5",
   "metadata": {},
   "outputs": [],
   "source": [
    "token = access_token[2]\n",
    "secret = access_token[-1]"
   ]
  },
  {
   "cell_type": "code",
   "execution_count": 7,
   "id": "d1b8e2de",
   "metadata": {},
   "outputs": [
    {
     "data": {
      "text/plain": [
       "'45376cf3a63c421ba5e13941db6a213b'"
      ]
     },
     "execution_count": 7,
     "metadata": {},
     "output_type": "execute_result"
    }
   ],
   "source": [
    "token"
   ]
  },
  {
   "cell_type": "code",
   "execution_count": 8,
   "id": "ad9b4839",
   "metadata": {},
   "outputs": [
    {
     "data": {
      "text/plain": [
       "'ebdf5b1bebd8405d8a88cf732484b995'"
      ]
     },
     "execution_count": 8,
     "metadata": {},
     "output_type": "execute_result"
    }
   ],
   "source": [
    "secret"
   ]
  },
  {
   "cell_type": "code",
   "execution_count": null,
   "id": "20c5bdc6",
   "metadata": {},
   "outputs": [],
   "source": []
  }
 ],
 "metadata": {
  "kernelspec": {
   "display_name": "Python 3 (ipykernel)",
   "language": "python",
   "name": "python3"
  },
  "language_info": {
   "codemirror_mode": {
    "name": "ipython",
    "version": 3
   },
   "file_extension": ".py",
   "mimetype": "text/x-python",
   "name": "python",
   "nbconvert_exporter": "python",
   "pygments_lexer": "ipython3",
   "version": "3.10.9"
  }
 },
 "nbformat": 4,
 "nbformat_minor": 5
}
